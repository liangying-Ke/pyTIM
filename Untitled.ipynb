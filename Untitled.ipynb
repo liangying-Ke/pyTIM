{
 "cells": [
  {
   "cell_type": "code",
   "execution_count": 1,
   "metadata": {},
   "outputs": [],
   "source": [
    "# import library\n",
    "import numpy as np\n",
    "import numpy.matlib as npml\n",
    "import math\n",
    "import numpy.matlib as nml\n",
    "import cv2\n"
   ]
  },
  {
   "cell_type": "code",
   "execution_count": 2,
   "metadata": {},
   "outputs": [],
   "source": [
    "def getPathWeightMatrix(N):\n",
    "    G = np.zeros((N,N))\n",
    "    G = np.asmatrix(G)\n",
    "    for i in range(N-1):\n",
    "        G[i,i+1] = 1\n",
    "        G[i+1,i] = 1\n",
    "    return G\n",
    "\n",
    "def getLapacian(G):\n",
    "    N, M = G.shape\n",
    "    print(N)\n",
    "    D= np.zeros((N,N))\n",
    "    sum_G = np.sum(G,axis = 0)\n",
    "    for i in range(N):\n",
    "        D[i,i] = sum_G[0,i]\n",
    "\n",
    "    L = D - G\n",
    "    return L\n",
    "\n",
    "def TrainPGM( X ):\n",
    "    (n,m) = X.shape\n",
    "    rank_X = np.linalg.matrix_rank(X)\n",
    "    if (rank_X < m):\n",
    "        print(\" ERROR : Invalid Input \")\n",
    "        return -1\n",
    "\n",
    "    mu = np.mean(X, axis =1)\n",
    "    X2 = X - nml.repmat(mu,1,m)\n",
    "\n",
    "    u,s,vh = np.linalg.svd(X2, full_matrices = False)\n",
    "\n",
    "    u = -1*u\n",
    "\n",
    "    sm = np.zeros((m,m))\n",
    "    sm = np.asmatrix(sm)\n",
    "\n",
    "    for i in range(m):\n",
    "        sm[i,i] = s[i]\n",
    "\n",
    "\n",
    "    V = vh.T.conj() \n",
    "    print(sm)\n",
    "    # S(N,:) = []\n",
    "    sm = np.delete(sm,m-1,axis=1)\n",
    "    sm = np.delete(sm,m-1,axis=0)\n",
    "    \n",
    "    V = np.delete(V,m-1,axis=1)\n",
    "\n",
    "    \n",
    "    u = np.delete(u,m-1,axis=1)\n",
    "    u = -1*u\n",
    "    \n",
    "    Q = np.dot(sm , np.transpose(V))\n",
    "\n",
    "\n",
    "\n",
    "    G = getPathWeightMatrix(m)\n",
    "    L = getLapacian(G)\n",
    "\n",
    "    ew,ev = np.linalg.eigh(L,UPLO='L')\n",
    "    V0 = np.delete(ev,0,axis = 1)\n",
    "\n",
    "    p1 = np.dot(Q,np.transpose(Q))\n",
    "    p2 = np.dot(Q,V0)\n",
    "    \n",
    "    W = np.dot(np.linalg.inv(p1),p2)\n",
    "    \n",
    "    print(V)\n",
    "    mat = np.zeros((m,1))\n",
    "    \n",
    "    # m(j) = Q(:,1)'*W(:,j)/sin(1/N*j*pi+pi*(N-j)/(2*N));\n",
    "    pi = 3.141592\n",
    "    for i in range(1,m):\n",
    "        val1 = np.dot( np.transpose(Q[:,0]), W[:,i-1] )\n",
    "        val2 = np.sin( (1.0/m)* i * np.pi + np.pi*(m-i)/(2*m))\n",
    "        #print(val1)\n",
    "        #print(val2)\n",
    "        mat[i] = np.asscalar(val1) / val2\n",
    "    \n",
    "    model = {'W':W , 'U': u, 'mu': mu, 'num': m, 'mat':mat }\n",
    "    return model\n",
    "\n",
    "    "
   ]
  },
  {
   "cell_type": "code",
   "execution_count": null,
   "metadata": {},
   "outputs": [],
   "source": []
  },
  {
   "cell_type": "markdown",
   "metadata": {},
   "source": []
  },
  {
   "cell_type": "code",
   "execution_count": 3,
   "metadata": {},
   "outputs": [],
   "source": []
  },
  {
   "cell_type": "code",
   "execution_count": 4,
   "metadata": {},
   "outputs": [
    {
     "name": "stdout",
     "output_type": "stream",
     "text": [
      " End of video \n",
      "[[  6.14606153e+04   0.00000000e+00   0.00000000e+00 ...,   0.00000000e+00\n",
      "    0.00000000e+00   0.00000000e+00]\n",
      " [  0.00000000e+00   3.14300274e+04   0.00000000e+00 ...,   0.00000000e+00\n",
      "    0.00000000e+00   0.00000000e+00]\n",
      " [  0.00000000e+00   0.00000000e+00   1.83185966e+04 ...,   0.00000000e+00\n",
      "    0.00000000e+00   0.00000000e+00]\n",
      " ..., \n",
      " [  0.00000000e+00   0.00000000e+00   0.00000000e+00 ...,   6.11083986e+02\n",
      "    0.00000000e+00   0.00000000e+00]\n",
      " [  0.00000000e+00   0.00000000e+00   0.00000000e+00 ...,   0.00000000e+00\n",
      "    6.05875499e+02   0.00000000e+00]\n",
      " [  0.00000000e+00   0.00000000e+00   0.00000000e+00 ...,   0.00000000e+00\n",
      "    0.00000000e+00   8.50801028e-11]]\n",
      "157\n",
      "[[ 0.01644625  0.06801209 -0.13772653 ...,  0.00697923 -0.00790978\n",
      "   0.00159168]\n",
      " [ 0.01436069  0.06992116 -0.13613341 ..., -0.00955446 -0.01287737\n",
      "   0.00729065]\n",
      " [ 0.01159782  0.0720389  -0.13730211 ...,  0.01379759  0.06124529\n",
      "  -0.01672178]\n",
      " ..., \n",
      " [ 0.11131963 -0.0738766  -0.04743903 ..., -0.09476834  0.00381458\n",
      "  -0.04492741]\n",
      " [ 0.11172465 -0.07456812 -0.04728665 ...,  0.11926421 -0.01916144\n",
      "   0.0816048 ]\n",
      " [ 0.11179798 -0.06842309 -0.01255474 ..., -0.00167323 -0.00182081\n",
      "   0.00191246]]\n"
     ]
    }
   ],
   "source": [
    "# running\n",
    "\n",
    "INPUT_FILE_NAME = 'EP03_5.avi';\n",
    "OUTPUT_FILE_NAM = 'EP03_5_out.mp4';\n",
    "\n",
    "cap = cv2.VideoCapture(INPUT_FILE_NAME)\n",
    "num_frame = int(cap.get(cv2.CAP_PROP_FRAME_COUNT))\n",
    "\n",
    "\n",
    "if cap.isOpened():\n",
    "    width = int(cap.get(cv2.CAP_PROP_FRAME_WIDTH) )  \n",
    "    height = int( cap.get(cv2.CAP_PROP_FRAME_HEIGHT) )\n",
    "vector_length = width * height\n",
    "img_vector = np.zeros((vector_length , num_frame))\n",
    "\n",
    "# vectorize video frames \n",
    "idx = 0\n",
    "while cap.isOpened():\n",
    "    ret, img = cap.read()\n",
    "    if (ret == False):\n",
    "        print(\" End of video \")\n",
    "        break\n",
    "    img_gray = cv2.cvtColor(img, cv2.COLOR_BGR2GRAY)\n",
    "    img_vector[:,idx] = np.reshape(img_gray, vector_length)\n",
    "    idx = idx + 1\n",
    "img_vector =  np.asmatrix(img_vector)\n",
    "\n",
    "model = TrainPGM(img_vector)\n",
    "\n"
   ]
  },
  {
   "cell_type": "code",
   "execution_count": 10,
   "metadata": {},
   "outputs": [
    {
     "name": "stdout",
     "output_type": "stream",
     "text": [
      "157 (78,)\n"
     ]
    }
   ],
   "source": [
    "scale_factor = 2\n",
    "pos_list = []\n",
    "st= (1.0 / scale_factor) * 1.0 / num_frame\n",
    "en = 1\n",
    "curr = st\n",
    "while (curr<= en):\n",
    "    pos_list.append(curr)\n",
    "    curr = curr + st\n",
    "pos = np.asarray(pos_list)\n",
    "print(num_frame,pos.shape)"
   ]
  },
  {
   "cell_type": "code",
   "execution_count": 25,
   "metadata": {},
   "outputs": [
    {
     "name": "stdout",
     "output_type": "stream",
     "text": [
      "921600 78\n"
     ]
    },
    {
     "ename": "ValueError",
     "evalue": "shapes (921600,156) and (1,4) not aligned: 156 (dim 1) != 1 (dim 0)",
     "output_type": "error",
     "traceback": [
      "\u001b[1;31m---------------------------------------------------------------------------\u001b[0m",
      "\u001b[1;31mValueError\u001b[0m                                Traceback (most recent call last)",
      "\u001b[1;32m<ipython-input-25-54ceeb54fb28>\u001b[0m in \u001b[0;36m<module>\u001b[1;34m()\u001b[0m\n\u001b[0;32m     27\u001b[0m     \u001b[1;32mreturn\u001b[0m \u001b[0mX\u001b[0m\u001b[1;33m\u001b[0m\u001b[0m\n\u001b[0;32m     28\u001b[0m \u001b[1;33m\u001b[0m\u001b[0m\n\u001b[1;32m---> 29\u001b[1;33m \u001b[0mX_new\u001b[0m \u001b[1;33m=\u001b[0m \u001b[0msynPGM\u001b[0m\u001b[1;33m(\u001b[0m\u001b[0mmodel\u001b[0m\u001b[1;33m,\u001b[0m \u001b[0mpos\u001b[0m\u001b[1;33m)\u001b[0m\u001b[1;33m\u001b[0m\u001b[0m\n\u001b[0m",
      "\u001b[1;32m<ipython-input-25-54ceeb54fb28>\u001b[0m in \u001b[0;36msynPGM\u001b[1;34m(model, pos)\u001b[0m\n\u001b[0;32m     23\u001b[0m \u001b[1;33m\u001b[0m\u001b[0m\n\u001b[0;32m     24\u001b[0m         \u001b[0mmodelM\u001b[0m \u001b[1;33m=\u001b[0m \u001b[0mmodelM\u001b[0m\u001b[1;33m[\u001b[0m\u001b[1;36m1\u001b[0m\u001b[1;33m:\u001b[0m\u001b[0mn\u001b[0m\u001b[1;33m,\u001b[0m\u001b[1;36m0\u001b[0m\u001b[1;33m]\u001b[0m\u001b[1;33m\u001b[0m\u001b[0m\n\u001b[1;32m---> 25\u001b[1;33m         \u001b[0mX\u001b[0m\u001b[1;33m[\u001b[0m\u001b[1;33m:\u001b[0m\u001b[1;33m,\u001b[0m\u001b[0mi\u001b[0m\u001b[1;33m]\u001b[0m \u001b[1;33m=\u001b[0m \u001b[0mmodelU\u001b[0m \u001b[1;33m*\u001b[0m \u001b[0mnp\u001b[0m\u001b[1;33m.\u001b[0m\u001b[0mlinalg\u001b[0m\u001b[1;33m.\u001b[0m\u001b[0mlstsq\u001b[0m\u001b[1;33m(\u001b[0m\u001b[0mnp\u001b[0m\u001b[1;33m.\u001b[0m\u001b[0mtranspose\u001b[0m\u001b[1;33m(\u001b[0m\u001b[0mmodelW\u001b[0m\u001b[1;33m)\u001b[0m\u001b[1;33m,\u001b[0m\u001b[0mv\u001b[0m\u001b[1;33m*\u001b[0m\u001b[0mmodelM\u001b[0m\u001b[1;33m)\u001b[0m \u001b[1;33m+\u001b[0m \u001b[0mmodelMu\u001b[0m\u001b[1;33m\u001b[0m\u001b[0m\n\u001b[0m\u001b[0;32m     26\u001b[0m         \u001b[0mprint\u001b[0m\u001b[1;33m(\u001b[0m\u001b[1;34m\"hello\"\u001b[0m\u001b[1;33m)\u001b[0m\u001b[1;33m\u001b[0m\u001b[0m\n\u001b[0;32m     27\u001b[0m     \u001b[1;32mreturn\u001b[0m \u001b[0mX\u001b[0m\u001b[1;33m\u001b[0m\u001b[0m\n",
      "\u001b[1;32m~\\AppData\\Local\\conda\\conda\\envs\\tensorflow\\lib\\site-packages\\numpy\\matrixlib\\defmatrix.py\u001b[0m in \u001b[0;36m__mul__\u001b[1;34m(self, other)\u001b[0m\n\u001b[0;32m    307\u001b[0m         \u001b[1;32mif\u001b[0m \u001b[0misinstance\u001b[0m\u001b[1;33m(\u001b[0m\u001b[0mother\u001b[0m\u001b[1;33m,\u001b[0m \u001b[1;33m(\u001b[0m\u001b[0mN\u001b[0m\u001b[1;33m.\u001b[0m\u001b[0mndarray\u001b[0m\u001b[1;33m,\u001b[0m \u001b[0mlist\u001b[0m\u001b[1;33m,\u001b[0m \u001b[0mtuple\u001b[0m\u001b[1;33m)\u001b[0m\u001b[1;33m)\u001b[0m \u001b[1;33m:\u001b[0m\u001b[1;33m\u001b[0m\u001b[0m\n\u001b[0;32m    308\u001b[0m             \u001b[1;31m# This promotes 1-D vectors to row vectors\u001b[0m\u001b[1;33m\u001b[0m\u001b[1;33m\u001b[0m\u001b[0m\n\u001b[1;32m--> 309\u001b[1;33m             \u001b[1;32mreturn\u001b[0m \u001b[0mN\u001b[0m\u001b[1;33m.\u001b[0m\u001b[0mdot\u001b[0m\u001b[1;33m(\u001b[0m\u001b[0mself\u001b[0m\u001b[1;33m,\u001b[0m \u001b[0masmatrix\u001b[0m\u001b[1;33m(\u001b[0m\u001b[0mother\u001b[0m\u001b[1;33m)\u001b[0m\u001b[1;33m)\u001b[0m\u001b[1;33m\u001b[0m\u001b[0m\n\u001b[0m\u001b[0;32m    310\u001b[0m         \u001b[1;32mif\u001b[0m \u001b[0misscalar\u001b[0m\u001b[1;33m(\u001b[0m\u001b[0mother\u001b[0m\u001b[1;33m)\u001b[0m \u001b[1;32mor\u001b[0m \u001b[1;32mnot\u001b[0m \u001b[0mhasattr\u001b[0m\u001b[1;33m(\u001b[0m\u001b[0mother\u001b[0m\u001b[1;33m,\u001b[0m \u001b[1;34m'__rmul__'\u001b[0m\u001b[1;33m)\u001b[0m \u001b[1;33m:\u001b[0m\u001b[1;33m\u001b[0m\u001b[0m\n\u001b[0;32m    311\u001b[0m             \u001b[1;32mreturn\u001b[0m \u001b[0mN\u001b[0m\u001b[1;33m.\u001b[0m\u001b[0mdot\u001b[0m\u001b[1;33m(\u001b[0m\u001b[0mself\u001b[0m\u001b[1;33m,\u001b[0m \u001b[0mother\u001b[0m\u001b[1;33m)\u001b[0m\u001b[1;33m\u001b[0m\u001b[0m\n",
      "\u001b[1;31mValueError\u001b[0m: shapes (921600,156) and (1,4) not aligned: 156 (dim 1) != 1 (dim 0)"
     ]
    }
   ],
   "source": [
    "PI = 3.14159\n",
    "def synPGM(model , pos):\n",
    "    n = model['num']\n",
    "    pos2 = pos*(1- 1.0 /float(n)) + 1.0 / float(n)\n",
    "    # synthesis\n",
    "    \n",
    "    n_model_U = model['U'].shape[0]\n",
    "    n_pos = pos2.shape[0]\n",
    "    print(n_model_U,n_pos)\n",
    "    X = np.zeros((n_model_U,n_pos),dtype=float)\n",
    "    \n",
    "    ndim = model['W'].shape[0]\n",
    "\n",
    "    \n",
    "    modelU = model['U']\n",
    "    modelW = model['W']\n",
    "    modelM = model['mat']\n",
    "    modelMu = model['mu']\n",
    "    for i in range (n_pos):\n",
    "        v = np.zeros((ndim,1),dtype=float)\n",
    "        for k in range (ndim):\n",
    "            v[k] = np.sin(pos[i]*(k+1)* PI + PI*(n- (k+1)) / (2*n)  )\n",
    "\n",
    "        modelM = modelM[1:n,0]\n",
    "        X[:,i] = modelU * np.linalg.lstsq(np.transpose(modelW),v*modelM) + modelMu\n",
    "        print(\"hello\")\n",
    "    return X\n",
    "\n",
    "X_new = synPGM(model, pos)\n"
   ]
  },
  {
   "cell_type": "code",
   "execution_count": 17,
   "metadata": {},
   "outputs": [
    {
     "name": "stdout",
     "output_type": "stream",
     "text": [
      "0.999999682932\n"
     ]
    }
   ],
   "source": []
  },
  {
   "cell_type": "code",
   "execution_count": null,
   "metadata": {},
   "outputs": [],
   "source": [
    "for i = 1 : length(pos)\n",
    "    v = zeros(ndim,1);\n",
    "    for k = 1 : ndim\n",
    "        v(k) = sin(pos(i)*k*pi+pi*(n-k)/(2*n));\n",
    "    end\n",
    "    X(:,i)=model.U*(model.W'\\(v.*model.m))+model.mu;\n",
    "end"
   ]
  }
 ],
 "metadata": {
  "kernelspec": {
   "display_name": "Python 3",
   "language": "python",
   "name": "python3"
  },
  "language_info": {
   "codemirror_mode": {
    "name": "ipython",
    "version": 3
   },
   "file_extension": ".py",
   "mimetype": "text/x-python",
   "name": "python",
   "nbconvert_exporter": "python",
   "pygments_lexer": "ipython3",
   "version": "3.5.6"
  }
 },
 "nbformat": 4,
 "nbformat_minor": 2
}
